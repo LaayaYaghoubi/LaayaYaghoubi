{
  "nbformat": 4,
  "nbformat_minor": 0,
  "metadata": {
    "colab": {
      "name": "Copy of Welcome To Colaboratory",
      "provenance": [],
      "collapsed_sections": [],
      "toc_visible": true,
      "include_colab_link": true
    },
    "kernelspec": {
      "display_name": "Python 3",
      "name": "python3"
    }
  },
  "cells": [
    {
      "cell_type": "markdown",
      "metadata": {
        "id": "view-in-github",
        "colab_type": "text"
      },
      "source": [
        "<a href=\"https://colab.research.google.com/github/LaayaYaghoubi/LaayaYaghoubi/blob/main/Copy_of_Welcome_To_Colaboratory.ipynb\" target=\"_parent\"><img src=\"https://colab.research.google.com/assets/colab-badge.svg\" alt=\"Open In Colab\"/></a>"
      ]
    },
    {
      "cell_type": "markdown",
      "metadata": {
        "id": "IJoRZ1Gp47aM"
      },
      "source": [
        " MLP using tensorflow"
      ]
    },
    {
      "cell_type": "code",
      "metadata": {
        "id": "WMMDBjtA4mR6"
      },
      "source": [
        "import tensorflow as tf \n",
        "from tensorflow import keras"
      ],
      "execution_count": null,
      "outputs": []
    },
    {
      "cell_type": "code",
      "metadata": {
        "id": "huWm1KlC445g"
      },
      "source": [
        "fashion_mnist = keras.datasets.fashion_mnist\n",
        "(x_train_full, y_train_full), (X_test, y_test) = fashion_mnist.load_data()\n"
      ],
      "execution_count": null,
      "outputs": []
    },
    {
      "cell_type": "code",
      "metadata": {
        "id": "SSDlFoNtENSe"
      },
      "source": [
        "x_valid, x_train = x_train_full[50000:] / 255.0, x_train_full[:50000] / 255.0\n",
        "y_valid, y_train = y_train_full[50000:], y_train_full[:50000] "
      ],
      "execution_count": null,
      "outputs": []
    },
    {
      "cell_type": "code",
      "metadata": {
        "id": "cksujE1x5hqV"
      },
      "source": [
        "model = keras.models.Sequential() \n",
        "model.add(keras.layers.Flatten(input_shape=[28, 28])) \n",
        "model.add(keras.layers.Dense(300, activation=\"relu\")) \n",
        "model.add(keras.layers.Dense(100, activation=\"relu\")) \n",
        "model.add(keras.layers.Dense(10, activation=\"softmax\"))"
      ],
      "execution_count": null,
      "outputs": []
    },
    {
      "cell_type": "code",
      "metadata": {
        "id": "hbFCExU88pXG"
      },
      "source": [
        "model.compile(loss=\"sparse_categorical_crossentropy\", optimizer=\"sgd\", metrics=[\"accuracy\"])"
      ],
      "execution_count": null,
      "outputs": []
    },
    {
      "cell_type": "code",
      "metadata": {
        "id": "3DxDfKLPEp5V",
        "colab": {
          "base_uri": "https://localhost:8080/"
        },
        "outputId": "9563c97f-38da-4a33-b7d4-920e963c73ff"
      },
      "source": [
        "history = model.fit(x_train, y_train, epochs=30, validation_data=(x_valid, y_valid))\n"
      ],
      "execution_count": null,
      "outputs": [
        {
          "output_type": "stream",
          "text": [
            "Epoch 1/30\n",
            "1563/1563 [==============================] - 5s 3ms/step - loss: 0.7298 - accuracy: 0.7622 - val_loss: 0.5272 - val_accuracy: 0.8190\n",
            "Epoch 2/30\n",
            "1563/1563 [==============================] - 4s 3ms/step - loss: 0.4902 - accuracy: 0.8305 - val_loss: 0.4736 - val_accuracy: 0.8389\n",
            "Epoch 3/30\n",
            "1563/1563 [==============================] - 4s 3ms/step - loss: 0.4471 - accuracy: 0.8440 - val_loss: 0.4444 - val_accuracy: 0.8427\n",
            "Epoch 4/30\n",
            "1563/1563 [==============================] - 4s 2ms/step - loss: 0.4209 - accuracy: 0.8534 - val_loss: 0.4393 - val_accuracy: 0.8483\n",
            "Epoch 5/30\n",
            "1563/1563 [==============================] - 4s 3ms/step - loss: 0.4024 - accuracy: 0.8584 - val_loss: 0.4239 - val_accuracy: 0.8495\n",
            "Epoch 6/30\n",
            "1563/1563 [==============================] - 4s 3ms/step - loss: 0.3865 - accuracy: 0.8645 - val_loss: 0.4163 - val_accuracy: 0.8504\n",
            "Epoch 7/30\n",
            "1563/1563 [==============================] - 4s 3ms/step - loss: 0.3727 - accuracy: 0.8680 - val_loss: 0.3836 - val_accuracy: 0.8639\n",
            "Epoch 8/30\n",
            "1563/1563 [==============================] - 4s 3ms/step - loss: 0.3612 - accuracy: 0.8719 - val_loss: 0.3914 - val_accuracy: 0.8658\n",
            "Epoch 9/30\n",
            "1563/1563 [==============================] - 4s 3ms/step - loss: 0.3514 - accuracy: 0.8758 - val_loss: 0.3835 - val_accuracy: 0.8660\n",
            "Epoch 10/30\n",
            "1563/1563 [==============================] - 4s 3ms/step - loss: 0.3411 - accuracy: 0.8793 - val_loss: 0.3953 - val_accuracy: 0.8608\n",
            "Epoch 11/30\n",
            "1563/1563 [==============================] - 4s 3ms/step - loss: 0.3340 - accuracy: 0.8802 - val_loss: 0.3605 - val_accuracy: 0.8738\n",
            "Epoch 12/30\n",
            "1563/1563 [==============================] - 4s 3ms/step - loss: 0.3252 - accuracy: 0.8836 - val_loss: 0.3630 - val_accuracy: 0.8709\n",
            "Epoch 13/30\n",
            "1563/1563 [==============================] - 4s 3ms/step - loss: 0.3179 - accuracy: 0.8856 - val_loss: 0.3516 - val_accuracy: 0.8772\n",
            "Epoch 14/30\n",
            "1563/1563 [==============================] - 4s 3ms/step - loss: 0.3109 - accuracy: 0.8881 - val_loss: 0.3413 - val_accuracy: 0.8773\n",
            "Epoch 15/30\n",
            "1563/1563 [==============================] - 4s 2ms/step - loss: 0.3044 - accuracy: 0.8904 - val_loss: 0.3453 - val_accuracy: 0.8749\n",
            "Epoch 16/30\n",
            "1563/1563 [==============================] - 4s 2ms/step - loss: 0.2979 - accuracy: 0.8924 - val_loss: 0.3490 - val_accuracy: 0.8779\n",
            "Epoch 17/30\n",
            "1563/1563 [==============================] - 4s 3ms/step - loss: 0.2919 - accuracy: 0.8951 - val_loss: 0.3398 - val_accuracy: 0.8792\n",
            "Epoch 18/30\n",
            "1563/1563 [==============================] - 4s 3ms/step - loss: 0.2859 - accuracy: 0.8976 - val_loss: 0.3623 - val_accuracy: 0.8686\n",
            "Epoch 19/30\n",
            "1563/1563 [==============================] - 4s 3ms/step - loss: 0.2804 - accuracy: 0.8993 - val_loss: 0.3416 - val_accuracy: 0.8786\n",
            "Epoch 20/30\n",
            "1563/1563 [==============================] - 4s 3ms/step - loss: 0.2766 - accuracy: 0.9001 - val_loss: 0.3300 - val_accuracy: 0.8832\n",
            "Epoch 21/30\n",
            "1563/1563 [==============================] - 4s 3ms/step - loss: 0.2711 - accuracy: 0.9032 - val_loss: 0.3260 - val_accuracy: 0.8849\n",
            "Epoch 22/30\n",
            "1563/1563 [==============================] - 4s 2ms/step - loss: 0.2659 - accuracy: 0.9046 - val_loss: 0.3354 - val_accuracy: 0.8793\n",
            "Epoch 23/30\n",
            "1563/1563 [==============================] - 4s 3ms/step - loss: 0.2605 - accuracy: 0.9057 - val_loss: 0.3337 - val_accuracy: 0.8822\n",
            "Epoch 24/30\n",
            "1563/1563 [==============================] - 4s 3ms/step - loss: 0.2556 - accuracy: 0.9079 - val_loss: 0.3309 - val_accuracy: 0.8817\n",
            "Epoch 25/30\n",
            "1563/1563 [==============================] - 4s 2ms/step - loss: 0.2518 - accuracy: 0.9085 - val_loss: 0.3305 - val_accuracy: 0.8821\n",
            "Epoch 26/30\n",
            "1563/1563 [==============================] - 4s 2ms/step - loss: 0.2468 - accuracy: 0.9116 - val_loss: 0.3509 - val_accuracy: 0.8767\n",
            "Epoch 27/30\n",
            "1563/1563 [==============================] - 4s 3ms/step - loss: 0.2423 - accuracy: 0.9134 - val_loss: 0.3348 - val_accuracy: 0.8821\n",
            "Epoch 28/30\n",
            "1563/1563 [==============================] - 4s 3ms/step - loss: 0.2387 - accuracy: 0.9144 - val_loss: 0.3148 - val_accuracy: 0.8884\n",
            "Epoch 29/30\n",
            "1563/1563 [==============================] - 4s 3ms/step - loss: 0.2350 - accuracy: 0.9150 - val_loss: 0.3373 - val_accuracy: 0.8838\n",
            "Epoch 30/30\n",
            "1563/1563 [==============================] - 4s 3ms/step - loss: 0.2305 - accuracy: 0.9184 - val_loss: 0.3325 - val_accuracy: 0.8839\n"
          ],
          "name": "stdout"
        }
      ]
    },
    {
      "cell_type": "code",
      "metadata": {
        "id": "fKzW5hxIFYzX",
        "colab": {
          "base_uri": "https://localhost:8080/",
          "height": 324
        },
        "outputId": "955e1316-a576-4acb-9a73-e99fdb8dd991"
      },
      "source": [
        "import pandas as pd \n",
        "import matplotlib.pyplot as plt \n",
        "pd.DataFrame(history.history).plot(figsize=(8, 5)) \n",
        "plt.grid(True) \n",
        "plt.gca().set_ylim(0, 1)  # set the vertical range to [0-1] \n",
        "plt.show()"
      ],
      "execution_count": null,
      "outputs": [
        {
          "output_type": "display_data",
          "data": {
            "image/png": "[encoded data removed]",
            "text/plain": [
              "<Figure size 576x360 with 1 Axes>"
            ]
          },
          "metadata": {
            "tags": [],
            "needs_background": "light"
          }
        }
      ]
    },
    {
      "cell_type": "code",
      "metadata": {
        "id": "ynNdF3LOFoHu",
        "colab": {
          "base_uri": "https://localhost:8080/"
        },
        "outputId": "e388ba39-a5b3-4fec-c436-57be1d1c7595"
      },
      "source": [
        "model.evaluate(X_test/255, y_test)"
      ],
      "execution_count": null,
      "outputs": [
        {
          "output_type": "stream",
          "text": [
            "313/313 [==============================] - 0s 1ms/step - loss: 0.3578 - accuracy: 0.8736\n"
          ],
          "name": "stdout"
        },
        {
          "output_type": "execute_result",
          "data": {
            "text/plain": [
              "[0.35778558254241943, 0.8736000061035156]"
            ]
          },
          "metadata": {
            "tags": []
          },
          "execution_count": 28
        }
      ]
    }
  ]
}